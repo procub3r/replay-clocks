{
 "cells": [
  {
   "cell_type": "code",
   "execution_count": 1,
   "metadata": {},
   "outputs": [],
   "source": [
    "import pandas as pd\n",
    "import matplotlib.pyplot as plt\n",
    "import numpy as np"
   ]
  },
  {
   "cell_type": "code",
   "execution_count": 2,
   "metadata": {},
   "outputs": [
    {
     "data": {
      "text/html": [
       "<div>\n",
       "<style scoped>\n",
       "    .dataframe tbody tr th:only-of-type {\n",
       "        vertical-align: middle;\n",
       "    }\n",
       "\n",
       "    .dataframe tbody tr th {\n",
       "        vertical-align: top;\n",
       "    }\n",
       "\n",
       "    .dataframe thead th {\n",
       "        text-align: right;\n",
       "    }\n",
       "</style>\n",
       "<table border=\"1\" class=\"dataframe\">\n",
       "  <thead>\n",
       "    <tr style=\"text-align: right;\">\n",
       "      <th></th>\n",
       "      <th>EPSILON</th>\n",
       "      <th>INTERVAL</th>\n",
       "      <th>DELTA</th>\n",
       "      <th>ALPHA</th>\n",
       "      <th>OFFSIZE</th>\n",
       "      <th>COUSIZE</th>\n",
       "      <th>EPOCH</th>\n",
       "    </tr>\n",
       "  </thead>\n",
       "  <tbody>\n",
       "    <tr>\n",
       "      <th>0</th>\n",
       "      <td>1</td>\n",
       "      <td>1</td>\n",
       "      <td>1</td>\n",
       "      <td>0.025</td>\n",
       "      <td>2</td>\n",
       "      <td>2</td>\n",
       "      <td>0</td>\n",
       "    </tr>\n",
       "    <tr>\n",
       "      <th>1</th>\n",
       "      <td>1</td>\n",
       "      <td>1</td>\n",
       "      <td>1</td>\n",
       "      <td>0.025</td>\n",
       "      <td>2</td>\n",
       "      <td>2</td>\n",
       "      <td>0</td>\n",
       "    </tr>\n",
       "    <tr>\n",
       "      <th>2</th>\n",
       "      <td>1</td>\n",
       "      <td>1</td>\n",
       "      <td>1</td>\n",
       "      <td>0.025</td>\n",
       "      <td>2</td>\n",
       "      <td>1</td>\n",
       "      <td>1</td>\n",
       "    </tr>\n",
       "    <tr>\n",
       "      <th>3</th>\n",
       "      <td>1</td>\n",
       "      <td>1</td>\n",
       "      <td>1</td>\n",
       "      <td>0.025</td>\n",
       "      <td>2</td>\n",
       "      <td>0</td>\n",
       "      <td>3</td>\n",
       "    </tr>\n",
       "    <tr>\n",
       "      <th>4</th>\n",
       "      <td>1</td>\n",
       "      <td>1</td>\n",
       "      <td>1</td>\n",
       "      <td>0.025</td>\n",
       "      <td>2</td>\n",
       "      <td>0</td>\n",
       "      <td>4</td>\n",
       "    </tr>\n",
       "  </tbody>\n",
       "</table>\n",
       "</div>"
      ],
      "text/plain": [
       "   EPSILON  INTERVAL  DELTA  ALPHA  OFFSIZE  COUSIZE  EPOCH\n",
       "0        1         1      1  0.025        2        2      0\n",
       "1        1         1      1  0.025        2        2      0\n",
       "2        1         1      1  0.025        2        1      1\n",
       "3        1         1      1  0.025        2        0      3\n",
       "4        1         1      1  0.025        2        0      4"
      ]
     },
     "execution_count": 2,
     "metadata": {},
     "output_type": "execute_result"
    }
   ],
   "source": [
    "df = pd.read_csv('../data/2023-04-20-hvc.csv')\n",
    "df.head()"
   ]
  },
  {
   "cell_type": "code",
   "execution_count": 3,
   "metadata": {},
   "outputs": [],
   "source": [
    "X = df[['EPSILON', 'INTERVAL', 'DELTA', 'ALPHA']].values\n",
    "y = df[['OFFSIZE']].values"
   ]
  },
  {
   "cell_type": "code",
   "execution_count": 4,
   "metadata": {},
   "outputs": [],
   "source": [
    "from sklearn.model_selection import train_test_split\n",
    "\n",
    "# assume X contains the four features and y contains the label\n",
    "X_train, X_test, y_train, y_test = train_test_split(X, y, test_size=0.2, random_state=42)"
   ]
  },
  {
   "cell_type": "code",
   "execution_count": 7,
   "metadata": {},
   "outputs": [
    {
     "ename": "MemoryError",
     "evalue": "Unable to allocate 1.76 TiB for an array with shape (492124, 492124) and data type float64",
     "output_type": "error",
     "traceback": [
      "\u001b[1;31m---------------------------------------------------------------------------\u001b[0m",
      "\u001b[1;31mMemoryError\u001b[0m                               Traceback (most recent call last)",
      "\u001b[1;32md:\\Code\\summer_research\\hybrid-vector-clocks\\Notebooks\\equationfinder.ipynb Cell 5\u001b[0m in \u001b[0;36m7\n\u001b[0;32m      <a href='vscode-notebook-cell:/d%3A/Code/summer_research/hybrid-vector-clocks/Notebooks/equationfinder.ipynb#W2sZmlsZQ%3D%3D?line=3'>4</a>\u001b[0m     \u001b[39mreturn\u001b[39;00m a \u001b[39m*\u001b[39m X[:, \u001b[39m0\u001b[39m] \u001b[39m+\u001b[39m d \u001b[39m*\u001b[39m X[:, \u001b[39m1\u001b[39m] \u001b[39m+\u001b[39m X[:, \u001b[39m2\u001b[39m] \u001b[39m+\u001b[39m X[:, \u001b[39m3\u001b[39m]\n\u001b[0;32m      <a href='vscode-notebook-cell:/d%3A/Code/summer_research/hybrid-vector-clocks/Notebooks/equationfinder.ipynb#W2sZmlsZQ%3D%3D?line=5'>6</a>\u001b[0m \u001b[39m# fit the function to your data\u001b[39;00m\n\u001b[1;32m----> <a href='vscode-notebook-cell:/d%3A/Code/summer_research/hybrid-vector-clocks/Notebooks/equationfinder.ipynb#W2sZmlsZQ%3D%3D?line=6'>7</a>\u001b[0m popt, pcov \u001b[39m=\u001b[39m curve_fit(func, X, y)\n\u001b[0;32m      <a href='vscode-notebook-cell:/d%3A/Code/summer_research/hybrid-vector-clocks/Notebooks/equationfinder.ipynb#W2sZmlsZQ%3D%3D?line=8'>9</a>\u001b[0m \u001b[39m# compute the predicted values of the function\u001b[39;00m\n\u001b[0;32m     <a href='vscode-notebook-cell:/d%3A/Code/summer_research/hybrid-vector-clocks/Notebooks/equationfinder.ipynb#W2sZmlsZQ%3D%3D?line=9'>10</a>\u001b[0m y_pred \u001b[39m=\u001b[39m func(X, \u001b[39m*\u001b[39mpopt)\n",
      "File \u001b[1;32m~\\AppData\\Local\\Packages\\PythonSoftwareFoundation.Python.3.10_qbz5n2kfra8p0\\LocalCache\\local-packages\\Python310\\site-packages\\scipy\\optimize\\_minpack_py.py:859\u001b[0m, in \u001b[0;36mcurve_fit\u001b[1;34m(f, xdata, ydata, p0, sigma, absolute_sigma, check_finite, bounds, method, jac, full_output, **kwargs)\u001b[0m\n\u001b[0;32m    856\u001b[0m \u001b[39mif\u001b[39;00m ydata\u001b[39m.\u001b[39msize \u001b[39m!=\u001b[39m \u001b[39m1\u001b[39m \u001b[39mand\u001b[39;00m n \u001b[39m>\u001b[39m ydata\u001b[39m.\u001b[39msize:\n\u001b[0;32m    857\u001b[0m     \u001b[39mraise\u001b[39;00m \u001b[39mTypeError\u001b[39;00m(\u001b[39mf\u001b[39m\u001b[39m\"\u001b[39m\u001b[39mThe number of func parameters=\u001b[39m\u001b[39m{\u001b[39;00mn\u001b[39m}\u001b[39;00m\u001b[39m must not\u001b[39m\u001b[39m\"\u001b[39m\n\u001b[0;32m    858\u001b[0m                     \u001b[39mf\u001b[39m\u001b[39m\"\u001b[39m\u001b[39m exceed the number of data points=\u001b[39m\u001b[39m{\u001b[39;00mydata\u001b[39m.\u001b[39msize\u001b[39m}\u001b[39;00m\u001b[39m\"\u001b[39m)\n\u001b[1;32m--> 859\u001b[0m res \u001b[39m=\u001b[39m leastsq(func, p0, Dfun\u001b[39m=\u001b[39mjac, full_output\u001b[39m=\u001b[39m\u001b[39m1\u001b[39m, \u001b[39m*\u001b[39m\u001b[39m*\u001b[39mkwargs)\n\u001b[0;32m    860\u001b[0m popt, pcov, infodict, errmsg, ier \u001b[39m=\u001b[39m res\n\u001b[0;32m    861\u001b[0m ysize \u001b[39m=\u001b[39m \u001b[39mlen\u001b[39m(infodict[\u001b[39m'\u001b[39m\u001b[39mfvec\u001b[39m\u001b[39m'\u001b[39m])\n",
      "File \u001b[1;32m~\\AppData\\Local\\Packages\\PythonSoftwareFoundation.Python.3.10_qbz5n2kfra8p0\\LocalCache\\local-packages\\Python310\\site-packages\\scipy\\optimize\\_minpack_py.py:413\u001b[0m, in \u001b[0;36mleastsq\u001b[1;34m(func, x0, args, Dfun, full_output, col_deriv, ftol, xtol, gtol, maxfev, epsfcn, factor, diag)\u001b[0m\n\u001b[0;32m    411\u001b[0m \u001b[39mif\u001b[39;00m \u001b[39mnot\u001b[39;00m \u001b[39misinstance\u001b[39m(args, \u001b[39mtuple\u001b[39m):\n\u001b[0;32m    412\u001b[0m     args \u001b[39m=\u001b[39m (args,)\n\u001b[1;32m--> 413\u001b[0m shape, dtype \u001b[39m=\u001b[39m _check_func(\u001b[39m'\u001b[39;49m\u001b[39mleastsq\u001b[39;49m\u001b[39m'\u001b[39;49m, \u001b[39m'\u001b[39;49m\u001b[39mfunc\u001b[39;49m\u001b[39m'\u001b[39;49m, func, x0, args, n)\n\u001b[0;32m    414\u001b[0m m \u001b[39m=\u001b[39m shape[\u001b[39m0\u001b[39m]\n\u001b[0;32m    416\u001b[0m \u001b[39mif\u001b[39;00m n \u001b[39m>\u001b[39m m:\n",
      "File \u001b[1;32m~\\AppData\\Local\\Packages\\PythonSoftwareFoundation.Python.3.10_qbz5n2kfra8p0\\LocalCache\\local-packages\\Python310\\site-packages\\scipy\\optimize\\_minpack_py.py:26\u001b[0m, in \u001b[0;36m_check_func\u001b[1;34m(checker, argname, thefunc, x0, args, numinputs, output_shape)\u001b[0m\n\u001b[0;32m     24\u001b[0m \u001b[39mdef\u001b[39;00m \u001b[39m_check_func\u001b[39m(checker, argname, thefunc, x0, args, numinputs,\n\u001b[0;32m     25\u001b[0m                 output_shape\u001b[39m=\u001b[39m\u001b[39mNone\u001b[39;00m):\n\u001b[1;32m---> 26\u001b[0m     res \u001b[39m=\u001b[39m atleast_1d(thefunc(\u001b[39m*\u001b[39;49m((x0[:numinputs],) \u001b[39m+\u001b[39;49m args)))\n\u001b[0;32m     27\u001b[0m     \u001b[39mif\u001b[39;00m (output_shape \u001b[39mis\u001b[39;00m \u001b[39mnot\u001b[39;00m \u001b[39mNone\u001b[39;00m) \u001b[39mand\u001b[39;00m (shape(res) \u001b[39m!=\u001b[39m output_shape):\n\u001b[0;32m     28\u001b[0m         \u001b[39mif\u001b[39;00m (output_shape[\u001b[39m0\u001b[39m] \u001b[39m!=\u001b[39m \u001b[39m1\u001b[39m):\n",
      "File \u001b[1;32m~\\AppData\\Local\\Packages\\PythonSoftwareFoundation.Python.3.10_qbz5n2kfra8p0\\LocalCache\\local-packages\\Python310\\site-packages\\scipy\\optimize\\_minpack_py.py:501\u001b[0m, in \u001b[0;36m_wrap_func.<locals>.func_wrapped\u001b[1;34m(params)\u001b[0m\n\u001b[0;32m    500\u001b[0m \u001b[39mdef\u001b[39;00m \u001b[39mfunc_wrapped\u001b[39m(params):\n\u001b[1;32m--> 501\u001b[0m     \u001b[39mreturn\u001b[39;00m func(xdata, \u001b[39m*\u001b[39;49mparams) \u001b[39m-\u001b[39;49m ydata\n",
      "\u001b[1;31mMemoryError\u001b[0m: Unable to allocate 1.76 TiB for an array with shape (492124, 492124) and data type float64"
     ]
    }
   ],
   "source": [
    "from scipy.optimize import curve_fit\n",
    "# define your custom non-linear function\n",
    "def func(X, a, b, c, d):\n",
    "    return a * X[:, 0] + d * X[:, 1] + X[:, 2] + X[:, 3]\n",
    "\n",
    "# fit the function to your data\n",
    "popt, pcov = curve_fit(func, X, y)\n",
    "\n",
    "# compute the predicted values of the function\n",
    "y_pred = func(X, *popt)\n",
    "\n",
    "# compute the sum of squares of the residuals and the total sum of squares\n",
    "SSres = np.sum((y - y_pred) ** 2)\n",
    "SStot = np.sum((y - np.mean(y)) ** 2)\n",
    "\n",
    "# compute the R-squared value\n",
    "R2 = 1 - (SSres / SStot)\n",
    "\n",
    "print(f\"R-squared value: {R2:.2f}\")\n",
    "\n",
    "# print the equation that fits your data\n",
    "print(f\"Equation: y = {popt[0]:.2f} * sin({popt[1]:.2f} * EPSILON) + {popt[2]:.2f} * exp(-{popt[3]:.2f} * INTERVAL) + DELTA^2 + ALPHA\")\n"
   ]
  },
  {
   "cell_type": "code",
   "execution_count": null,
   "metadata": {},
   "outputs": [],
   "source": [
    "# compute the predicted values of the function\n",
    "y_pred = func(X, *popt)\n",
    "\n",
    "# compute the sum of squares of the residuals and the total sum of squares\n",
    "SSres = np.sum((y - y_pred) ** 2)\n",
    "SStot = np.sum((y - np.mean(y)) ** 2)\n",
    "\n",
    "# compute the R-squared value\n",
    "R2 = 1 - (SSres / SStot)\n",
    "\n",
    "print(f\"R-squared value: {R2:.2f}\")\n",
    "\n",
    "# print the optimized parameters\n",
    "print(f\"a: {popt[0]:.2f}, b: {popt[1]:.2f}, c: {popt[2]:.2f}, d: {popt[3]:.2f}\")"
   ]
  }
 ],
 "metadata": {
  "kernelspec": {
   "display_name": "Python 3",
   "language": "python",
   "name": "python3"
  },
  "language_info": {
   "codemirror_mode": {
    "name": "ipython",
    "version": 3
   },
   "file_extension": ".py",
   "mimetype": "text/x-python",
   "name": "python",
   "nbconvert_exporter": "python",
   "pygments_lexer": "ipython3",
   "version": "3.10.11"
  },
  "orig_nbformat": 4
 },
 "nbformat": 4,
 "nbformat_minor": 2
}
