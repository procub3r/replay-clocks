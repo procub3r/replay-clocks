{
 "cells": [
  {
   "cell_type": "code",
   "execution_count": 1,
   "id": "b596bb76-6f3d-4310-b119-d717a6805ae3",
   "metadata": {},
   "outputs": [],
   "source": [
    "from mpl_toolkits import mplot3d\n",
    "import numpy as np\n",
    "import matplotlib.pyplot as plt\n",
    "import pandas as pd\n",
    "%matplotlib widget"
   ]
  },
  {
   "cell_type": "code",
   "execution_count": 2,
   "id": "85abc900-9451-42c2-ae48-7df5fa024f32",
   "metadata": {},
   "outputs": [],
   "source": [
    "df = pd.read_excel('../data/03-20-23.xlsx')\n",
    "df['epsilon'] = df['epsilon']*1000"
   ]
  },
  {
   "cell_type": "code",
   "execution_count": null,
   "id": "cca9a265-b6e8-473b-9393-4a0c210c57fb",
   "metadata": {},
   "outputs": [],
   "source": [
    "# epsilon vs delta\n",
    "\n",
    "for interval in df['interval'].unique():\n",
    "    plt.figure(figsize=(8, 8))\n",
    "    ax = plt.axes(projection='3d')\n",
    "    for alpha in df['alpha'].unique():    \n",
    "        subset_df = df[(df['interval'] == interval) & (df['alpha'] == alpha)]\n",
    "        xline = subset_df['epsilon']\n",
    "        yline = subset_df['delta']\n",
    "        zline = subset_df['mean_offset_size']\n",
    "        ax.plot3D(xline, yline, zline, label = 'A{}'.format(alpha))\n",
    "    plt.xlabel('epsilon')\n",
    "    plt.ylabel('delta')\n",
    "    plt.legend()\n",
    "    plt.title('I{}'.format(interval))\n",
    "    plt.show()"
   ]
  },
  {
   "cell_type": "code",
   "execution_count": null,
   "id": "ca15452f-7a0c-4be4-a51c-0eb1272315f2",
   "metadata": {},
   "outputs": [],
   "source": [
    "# epsilon vs interval\n",
    "for delta in df['delta'].unique():\n",
    "    plt.figure(figsize=(8, 8))\n",
    "    ax = plt.axes(projection='3d')\n",
    "    for alpha in df['alpha'].unique():    \n",
    "        subset_df = df[(df['delta'] == delta) & (df['alpha'] == alpha)]\n",
    "        xline = subset_df['epsilon']\n",
    "        yline = subset_df['interval']\n",
    "        zline = subset_df['mean_offset_size']\n",
    "        ax.plot3D(xline, yline, zline, label = 'A{}'.format(alpha))\n",
    "    plt.xlabel('epsilon')\n",
    "    plt.ylabel('interval')\n",
    "    plt.legend()\n",
    "    plt.title('D{}'.format(delta))\n",
    "    plt.show()"
   ]
  },
  {
   "cell_type": "code",
   "execution_count": null,
   "id": "0e1f5b71-1b83-424b-bd99-ec70b3b1fa45",
   "metadata": {},
   "outputs": [],
   "source": [
    "# epsilon vs alpha\n",
    "for delta in df['delta'].unique():\n",
    "    plt.figure(figsize=(8, 8))\n",
    "    ax = plt.axes(projection='3d')\n",
    "    for interval in df['interval'].unique():    \n",
    "        subset_df = df[(df['delta'] == delta) & (df['interval'] == interval)]\n",
    "        xline = subset_df['epsilon']\n",
    "        yline = subset_df['alpha']\n",
    "        zline = subset_df['mean_offset_size']\n",
    "        ax.plot3D(xline, yline, zline, label = 'I{}'.format(interval))\n",
    "    plt.xlabel('epsilon')\n",
    "    plt.ylabel('alpha')\n",
    "    plt.legend()\n",
    "    plt.title('D{}'.format(delta))\n",
    "    plt.show()"
   ]
  },
  {
   "cell_type": "code",
   "execution_count": null,
   "id": "f75837f8-de9a-4330-b32f-e02aa11e6483",
   "metadata": {},
   "outputs": [],
   "source": [
    "# interval vs delta\n",
    "for epsilon in df['epsilon'].unique():\n",
    "    plt.figure(figsize=(8, 8))\n",
    "    ax = plt.axes(projection='3d')\n",
    "    for alpha in df['alpha'].unique():    \n",
    "        subset_df = df[(df['epsilon'] == epsilon) & (df['alpha'] == alpha)]\n",
    "        xline = subset_df['interval']\n",
    "        yline = subset_df['delta']\n",
    "        zline = subset_df['mean_offset_size']\n",
    "        ax.plot3D(xline, yline, zline, label = 'A{}'.format(alpha))\n",
    "    plt.xlabel('interval')\n",
    "    plt.ylabel('delta')\n",
    "    plt.legend()\n",
    "    plt.title('E{}'.format(epsilon))\n",
    "    plt.show()\n",
    "    "
   ]
  },
  {
   "cell_type": "code",
   "execution_count": null,
   "id": "0647cef6-3d2e-4ac5-8ea4-bb480ba9d9e9",
   "metadata": {},
   "outputs": [],
   "source": [
    "# interval vs alpha\n",
    "for epsilon in df['epsilon'].unique():\n",
    "    plt.figure(figsize=(8, 8))\n",
    "    ax = plt.axes(projection='3d')\n",
    "    for delta in df['delta'].unique():    \n",
    "        subset_df = df[(df['epsilon'] == epsilon) & (df['delta'] == delta)]\n",
    "        xline = subset_df['interval']\n",
    "        yline = subset_df['alpha']\n",
    "        zline = subset_df['mean_offset_size']\n",
    "        ax.plot3D(xline, yline, zline, label = 'D{}'.format(delta))\n",
    "    plt.xlabel('interval')\n",
    "    plt.ylabel('alpha')\n",
    "    plt.legend()\n",
    "    plt.title('E{}'.format(epsilon))\n",
    "    plt.show()"
   ]
  },
  {
   "cell_type": "code",
   "execution_count": null,
   "id": "17291f2d-a714-4b38-a2e7-ceba0ae251eb",
   "metadata": {},
   "outputs": [],
   "source": [
    "# delta vs alpha\n",
    "\n",
    "for epsilon in df['epsilon'].unique():\n",
    "    plt.figure(figsize=(8, 8))\n",
    "    ax = plt.axes(projection='3d')\n",
    "    for interval in df['interval'].unique():    \n",
    "        subset_df = df[(df['epsilon'] == epsilon) & (df['interval'] == interval)]\n",
    "        xline = subset_df['delta']\n",
    "        yline = subset_df['alpha']\n",
    "        zline = subset_df['mean_offset_size']\n",
    "        ax.plot3D(xline, yline, zline, label = 'I{}'.format(interval))\n",
    "    plt.xlabel('interval')\n",
    "    plt.ylabel('alpha')\n",
    "    plt.legend()\n",
    "    plt.title('E{}'.format(epsilon))\n",
    "    plt.show()"
   ]
  },
  {
   "cell_type": "code",
   "execution_count": null,
   "id": "6bcb5b90-52cb-4cff-9aa5-7c33f84b5774",
   "metadata": {},
   "outputs": [],
   "source": []
  }
 ],
 "metadata": {
  "kernelspec": {
   "display_name": "Python 3 (ipykernel)",
   "language": "python",
   "name": "python3"
  },
  "language_info": {
   "codemirror_mode": {
    "name": "ipython",
    "version": 3
   },
   "file_extension": ".py",
   "mimetype": "text/x-python",
   "name": "python",
   "nbconvert_exporter": "python",
   "pygments_lexer": "ipython3",
   "version": "3.10.10"
  }
 },
 "nbformat": 4,
 "nbformat_minor": 5
}
